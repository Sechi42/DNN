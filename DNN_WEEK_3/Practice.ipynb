{
 "cells": [
  {
   "cell_type": "code",
   "execution_count": null,
   "id": "08786cb0",
   "metadata": {},
   "outputs": [],
   "source": [
    "import torch\n",
    "import torch.nn as nn\n",
    "import numpy as np\n",
    "import matplotlib.pyplot as plt\n",
    "from collections import OrderedDict"
   ]
  },
  {
   "cell_type": "code",
   "execution_count": null,
   "id": "3c83cb46",
   "metadata": {},
   "outputs": [],
   "source": [
    "def my_func(a, b, n_samples, noise_var):\n",
    "    x = np.linspace(a, b, n_samples)\n",
    "    y = 2**np.cos(x**2) + np.random.normal(0, noise_var, n_samples)\n",
    "    return x.reshape(-1, 1), y.reshape(-1, 1)"
   ]
  },
  {
   "cell_type": "markdown",
   "id": "27f512e9",
   "metadata": {},
   "source": [
    "Try with noise_var = 0, 0.1, 0.5"
   ]
  },
  {
   "cell_type": "code",
   "execution_count": null,
   "id": "7a429375",
   "metadata": {},
   "outputs": [],
   "source": [
    "X_np, y_np = my_func(-np.pi, np.pi, 30, 0.0)\n",
    "\n",
    "#X_np, y_np = my_func(-np.pi, np.pi, 500, 0.1)\n",
    "#X_np, y_np = my_func(-np.pi, np.pi, 500, 0.5)\n",
    "\n",
    "plt.plot(X_np, y_np, 'ro')\n",
    "plt.show()"
   ]
  },
  {
   "cell_type": "code",
   "execution_count": null,
   "id": "46a2b72b",
   "metadata": {},
   "outputs": [],
   "source": [
    "X = torch.from_numpy(X_np.astype(np.float32))\n",
    "y = torch.from_numpy(y_np.astype(np.float32))\n",
    "y = y.view(y.shape[0], 1)\n",
    "\n",
    "n_samples, n_features = X.shape\n",
    "\n",
    "input_size = n_features\n",
    "output_size = 1"
   ]
  },
  {
   "cell_type": "markdown",
   "id": "cff63a0e",
   "metadata": {},
   "source": [
    "Try with the commented lines"
   ]
  },
  {
   "cell_type": "code",
   "execution_count": null,
   "id": "81670985",
   "metadata": {},
   "outputs": [],
   "source": [
    "class DNN(nn.Module):\n",
    "    def __init__(self, n):\n",
    "        super(DNN, self).__init__()\n",
    "        \n",
    "        # Número de capas (L = número de elementos en n - 1)\n",
    "        self.L = len(n) - 1\n",
    "        \n",
    "        # Función de activación: guardamos la clase, instanciamos por capa\n",
    "        #actcls = nn.Sigmoid\n",
    "        #actcls = nn.ReLU\n",
    "        actcls = nn.Tanh\n",
    "        \n",
    "        layers = list()\n",
    "        # Construye las capas ocultas con su función de activación\n",
    "        for i in range(self.L - 1):\n",
    "            layers.append((f'l_{i+1}', nn.Linear(n[i], n[i+1])))  # Capa lineal\n",
    "            layers.append((f'actfunc_{i+1}', actcls()))          # Activación (nueva instancia por capa)\n",
    "        \n",
    "        # Última capa (sin activación)\n",
    "        layers.append((f'l_{self.L}', nn.Linear(n[-2], n[-1])))\n",
    "        self.layers = nn.Sequential(OrderedDict(layers))  # Secuencia ordenada de capas\n",
    "        \n",
    "    def forward(self, x):\n",
    "        # Propagación hacia adelante: aplica todas las capas secuencialmente\n",
    "        return self.layers(x)\n",
    "    \n",
    "\n",
    "#model = DNN(n = [input_size, output_size])\n",
    "model = DNN(n = [input_size, 20, output_size])\n",
    "#model = DNN(n = [input_size, 20, 20, 20, 20, 20, output_size])\n",
    "#model = DNN(n = [input_size, 200, output_size])"
   ]
  },
  {
   "cell_type": "code",
   "execution_count": null,
   "id": "e0b013cf",
   "metadata": {},
   "outputs": [],
   "source": [
    "y_hat = model(X)\n",
    "\n",
    "plt.plot(X_np, y_np, 'ro')\n",
    "plt.plot(X_np, y_hat.detach().numpy(), 'b')\n",
    "plt.title('Initial Model - Neural Network')\n",
    "plt.show()\n",
    "plt.close()"
   ]
  },
  {
   "cell_type": "code",
   "execution_count": null,
   "id": "31491a1c",
   "metadata": {},
   "outputs": [],
   "source": [
    "learning_rate = 0.01\n",
    "optimizer = torch.optim.Adam(model.parameters(), lr=learning_rate)\n",
    "#optimizer = torch.optim.Adam(model.parameters(), lr=learning_rate) \n",
    "criterion = nn.MSELoss()"
   ]
  },
  {
   "cell_type": "code",
   "execution_count": null,
   "id": "c9fc977a",
   "metadata": {},
   "outputs": [],
   "source": [
    "MaxIters = 100000\n",
    "for epoch in range(MaxIters):\n",
    "    \n",
    "    #Forward\n",
    "    optimizer.zero_grad()\n",
    "    y_hat = model(X)\n",
    "    Err = criterion(y_hat, y)\n",
    "    \n",
    "    #Backward\n",
    "    Err.backward()\n",
    "    \n",
    "    #Updating \n",
    "    optimizer.step()\n",
    "    \n",
    "    \n",
    "    if (epoch+1) % 100 == 0:\n",
    "        print(f'Epoch [{epoch+1}/{MaxIters}], Loss: {Err.item():.4f}')"
   ]
  },
  {
   "cell_type": "code",
   "execution_count": null,
   "id": "6385dc42",
   "metadata": {},
   "outputs": [],
   "source": [
    "plt.plot(X_np, y_np, 'ro')\n",
    "plt.plot(X_np, y_hat.detach().numpy(), 'b')\n",
    "plt.title('Trained Model - Neural Network')\n",
    "plt.show()"
   ]
  },
  {
   "cell_type": "code",
   "execution_count": null,
   "id": "906f9db6",
   "metadata": {},
   "outputs": [],
   "source": [
    "def Accuracy(y, y_hat):\n",
    "    mse = torch.mean((y - y_hat)**2)\n",
    "    return 1 / (1 + mse)\n",
    "\n",
    "# Imprime metricas\n",
    "print(f'Final Loss: {Err.item():.4f}')\n",
    "print(f'Final Accuracy: {Accuracy(y, y_hat):.4f}')\n",
    "print(f'RMSE: {torch.sqrt(torch.mean((y - y_hat)**2)).item():.4f}')\n"
   ]
  }
 ],
 "metadata": {
  "kernelspec": {
   "display_name": "Python 3",
   "language": "python",
   "name": "python3"
  },
  "language_info": {
   "codemirror_mode": {
    "name": "ipython",
    "version": 3
   },
   "file_extension": ".py",
   "mimetype": "text/x-python",
   "name": "python",
   "nbconvert_exporter": "python",
   "pygments_lexer": "ipython3",
   "version": "3.12.5"
  }
 },
 "nbformat": 4,
 "nbformat_minor": 5
}
