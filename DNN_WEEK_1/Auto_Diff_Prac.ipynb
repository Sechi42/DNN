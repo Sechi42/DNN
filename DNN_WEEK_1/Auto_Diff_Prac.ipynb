{
 "cells": [
  {
   "cell_type": "code",
   "execution_count": 5,
   "id": "720f39a7",
   "metadata": {},
   "outputs": [],
   "source": [
    "import torch\n",
    "import numpy as np"
   ]
  },
  {
   "cell_type": "code",
   "execution_count": 6,
   "id": "e185bcdf",
   "metadata": {},
   "outputs": [
    {
     "name": "stdout",
     "output_type": "stream",
     "text": [
      "tensor([1, 2, 3])\n"
     ]
    }
   ],
   "source": [
    "x =  torch.tensor([1, 2, 3])\n",
    "print(x)"
   ]
  },
  {
   "cell_type": "code",
   "execution_count": 7,
   "id": "cae40c5c",
   "metadata": {},
   "outputs": [
    {
     "data": {
      "text/plain": [
       "tensor([[1, 2, 3],\n",
       "        [4, 5, 6]])"
      ]
     },
     "execution_count": 7,
     "metadata": {},
     "output_type": "execute_result"
    }
   ],
   "source": [
    "y = torch.tensor([[1, 2, 3],[4, 5, 6]])\n",
    "y"
   ]
  },
  {
   "cell_type": "code",
   "execution_count": 8,
   "id": "afc616c8",
   "metadata": {},
   "outputs": [
    {
     "name": "stdout",
     "output_type": "stream",
     "text": [
      "torch.Size([3])\n",
      "torch.Size([2, 3])\n"
     ]
    }
   ],
   "source": [
    "print(x.size())\n",
    "print(y.size())"
   ]
  },
  {
   "cell_type": "code",
   "execution_count": 9,
   "id": "cfc274b5",
   "metadata": {},
   "outputs": [
    {
     "name": "stdout",
     "output_type": "stream",
     "text": [
      "tensor([11,  2,  3])\n"
     ]
    }
   ],
   "source": [
    "x[0] += 10\n",
    "print(x)"
   ]
  },
  {
   "cell_type": "code",
   "execution_count": 10,
   "id": "607b7f80",
   "metadata": {},
   "outputs": [
    {
     "name": "stdout",
     "output_type": "stream",
     "text": [
      "tensor(11)\n"
     ]
    }
   ],
   "source": [
    "print(x[0])"
   ]
  },
  {
   "cell_type": "code",
   "execution_count": 11,
   "id": "c427c2af",
   "metadata": {},
   "outputs": [
    {
     "name": "stdout",
     "output_type": "stream",
     "text": [
      "11\n"
     ]
    }
   ],
   "source": [
    "x0_val = x[0].item()\n",
    "print(x0_val)"
   ]
  },
  {
   "cell_type": "markdown",
   "id": "382690ec",
   "metadata": {},
   "source": [
    "Ejemplo de tensores"
   ]
  },
  {
   "cell_type": "code",
   "execution_count": 12,
   "id": "65d52b0a",
   "metadata": {},
   "outputs": [
    {
     "name": "stdout",
     "output_type": "stream",
     "text": [
      "tensor([[1., 1., 1.],\n",
      "        [1., 1., 1.]])\n"
     ]
    }
   ],
   "source": [
    "z = torch.ones(2,3)\n",
    "print(z)"
   ]
  },
  {
   "cell_type": "code",
   "execution_count": 14,
   "id": "90fd7c3b",
   "metadata": {},
   "outputs": [
    {
     "name": "stdout",
     "output_type": "stream",
     "text": [
      "tensor([[0.5017, 0.5443, 0.9535],\n",
      "        [0.3639, 0.6167, 0.2533]])\n"
     ]
    }
   ],
   "source": [
    "z = torch.rand(2, 3)\n",
    "print(z)"
   ]
  },
  {
   "cell_type": "code",
   "execution_count": 15,
   "id": "b70d521a",
   "metadata": {},
   "outputs": [
    {
     "name": "stdout",
     "output_type": "stream",
     "text": [
      "tensor([[4.4506e+20, 1.2612e-42, 0.0000e+00],\n",
      "        [0.0000e+00, 0.0000e+00, 0.0000e+00]])\n"
     ]
    }
   ],
   "source": [
    "z = torch.empty(2, 3)\n",
    "print(z)"
   ]
  },
  {
   "cell_type": "markdown",
   "id": "5c2ae515",
   "metadata": {},
   "source": [
    "### Que es un tensor?\n",
    "\n",
    "Un tensor es una estructura de datos que generaliza los conceptos de escalares, vectores y matrices a dimensiones superiores. En términos simples:\n",
    "- Un escalar es un tensor de orden 0 (un solo número).\n",
    "- Un vector es un tensor de orden 1 (una lista de números).\n",
    "- Una matriz es un tensor de orden 2 (una tabla de números con filas y columnas).\n",
    "\n",
    "Un tensor puede tener más de dos dimensiones, lo que permite representar datos más complejos, como imágenes (3D), videos (4D) o cualquier otro tipo de datos multidimensionales. Los tensores son fundamentales en el aprendizaje profundo y se utilizan para almacenar y manipular datos en redes neuronales."
   ]
  },
  {
   "cell_type": "code",
   "execution_count": 16,
   "id": "b0d6480e",
   "metadata": {},
   "outputs": [
    {
     "name": "stdout",
     "output_type": "stream",
     "text": [
      "<built-in method size of Tensor object at 0x000001EB1B04F610>\n",
      "tensor(-5.3000)\n"
     ]
    }
   ],
   "source": [
    "a = torch.tensor(-5.3)\n",
    "print(a.size)\n",
    "print(a)"
   ]
  },
  {
   "cell_type": "code",
   "execution_count": 17,
   "id": "a1ace6a1",
   "metadata": {},
   "outputs": [
    {
     "name": "stdout",
     "output_type": "stream",
     "text": [
      "torch.Size([2, 3])\n",
      "tensor([[1., 1., 1.],\n",
      "        [1., 1., 1.]])\n"
     ]
    }
   ],
   "source": [
    "a = torch.ones(2,3)\n",
    "print(a.size())\n",
    "print(a)"
   ]
  },
  {
   "cell_type": "markdown",
   "id": "e433f8b8",
   "metadata": {
    "vscode": {
     "languageId": "markdown"
    }
   },
   "source": [
    "La función `torch.ones(3, 4, 5)` crea un tensor de tres dimensiones (3D) donde:\n",
    "\n",
    "- El primer número (`3`) indica que hay 3 bloques o matrices.\n",
    "- El segundo número (`4`) indica que cada bloque tiene 4 filas.\n",
    "- El tercer número (`5`) indica que cada fila tiene 5 columnas.\n",
    "\n",
    "En términos generales, un tensor de forma `(3, 4, 5)` puede visualizarse como una colección de 3 matrices, cada una de tamaño 4x5. Más allá de matrices, los tensores permiten representar datos multidimensionales, como imágenes (por ejemplo, lotes de imágenes RGB pueden tener forma `(batch_size, canales, alto, ancho)`).\n",
    "\n",
    "**Resumen:**  \n",
    "- Escalar: tensor de 0 dimensiones (un solo número).\n",
    "- Vector: tensor de 1 dimensión (una lista).\n",
    "- Matriz: tensor de 2 dimensiones (tabla de números).\n",
    "- Tensor 3D: colección de matrices (por ejemplo, `torch.ones(3, 4, 5)`).\n",
    "\n",
    "Esto es útil en aprendizaje profundo para organizar datos complejos y trabajar con lotes de ejemplos, canales de color, secuencias, etc."
   ]
  },
  {
   "cell_type": "code",
   "execution_count": 18,
   "id": "3edf084c",
   "metadata": {},
   "outputs": [
    {
     "name": "stdout",
     "output_type": "stream",
     "text": [
      "torch.Size([3, 4, 5])\n",
      "tensor([[[1., 1., 1., 1., 1.],\n",
      "         [1., 1., 1., 1., 1.],\n",
      "         [1., 1., 1., 1., 1.],\n",
      "         [1., 1., 1., 1., 1.]],\n",
      "\n",
      "        [[1., 1., 1., 1., 1.],\n",
      "         [1., 1., 1., 1., 1.],\n",
      "         [1., 1., 1., 1., 1.],\n",
      "         [1., 1., 1., 1., 1.]],\n",
      "\n",
      "        [[1., 1., 1., 1., 1.],\n",
      "         [1., 1., 1., 1., 1.],\n",
      "         [1., 1., 1., 1., 1.],\n",
      "         [1., 1., 1., 1., 1.]]])\n"
     ]
    }
   ],
   "source": [
    "a = torch.ones(3,4,5)\n",
    "print(a.size())\n",
    "print(a)"
   ]
  },
  {
   "cell_type": "code",
   "execution_count": null,
   "id": "3be8d9f2",
   "metadata": {},
   "outputs": [
    {
     "name": "stdout",
     "output_type": "stream",
     "text": [
      "torch.Size([2, 3, 4, 5])\n",
      "tensor([[[[1., 1., 1., 1., 1.],\n",
      "          [1., 1., 1., 1., 1.],\n",
      "          [1., 1., 1., 1., 1.],\n",
      "          [1., 1., 1., 1., 1.]],\n",
      "\n",
      "         [[1., 1., 1., 1., 1.],\n",
      "          [1., 1., 1., 1., 1.],\n",
      "          [1., 1., 1., 1., 1.],\n",
      "          [1., 1., 1., 1., 1.]],\n",
      "\n",
      "         [[1., 1., 1., 1., 1.],\n",
      "          [1., 1., 1., 1., 1.],\n",
      "          [1., 1., 1., 1., 1.],\n",
      "          [1., 1., 1., 1., 1.]]],\n",
      "\n",
      "\n",
      "        [[[1., 1., 1., 1., 1.],\n",
      "          [1., 1., 1., 1., 1.],\n",
      "          [1., 1., 1., 1., 1.],\n",
      "          [1., 1., 1., 1., 1.]],\n",
      "\n",
      "         [[1., 1., 1., 1., 1.],\n",
      "          [1., 1., 1., 1., 1.],\n",
      "          [1., 1., 1., 1., 1.],\n",
      "          [1., 1., 1., 1., 1.]],\n",
      "\n",
      "         [[1., 1., 1., 1., 1.],\n",
      "          [1., 1., 1., 1., 1.],\n",
      "          [1., 1., 1., 1., 1.],\n",
      "          [1., 1., 1., 1., 1.]]]])\n"
     ]
    }
   ],
   "source": [
    "# 2 Grupos de 3 matrices de 4x5\n",
    "a = torch.ones(2,3,4,5)\n",
    "print(a.size())\n",
    "print(a)"
   ]
  },
  {
   "cell_type": "code",
   "execution_count": 20,
   "id": "e0fdcaa1",
   "metadata": {},
   "outputs": [
    {
     "name": "stdout",
     "output_type": "stream",
     "text": [
      "torch.Size([2, 3, 4, 5, 2])\n",
      "tensor([[[[[1., 1.],\n",
      "           [1., 1.],\n",
      "           [1., 1.],\n",
      "           [1., 1.],\n",
      "           [1., 1.]],\n",
      "\n",
      "          [[1., 1.],\n",
      "           [1., 1.],\n",
      "           [1., 1.],\n",
      "           [1., 1.],\n",
      "           [1., 1.]],\n",
      "\n",
      "          [[1., 1.],\n",
      "           [1., 1.],\n",
      "           [1., 1.],\n",
      "           [1., 1.],\n",
      "           [1., 1.]],\n",
      "\n",
      "          [[1., 1.],\n",
      "           [1., 1.],\n",
      "           [1., 1.],\n",
      "           [1., 1.],\n",
      "           [1., 1.]]],\n",
      "\n",
      "\n",
      "         [[[1., 1.],\n",
      "           [1., 1.],\n",
      "           [1., 1.],\n",
      "           [1., 1.],\n",
      "           [1., 1.]],\n",
      "\n",
      "          [[1., 1.],\n",
      "           [1., 1.],\n",
      "           [1., 1.],\n",
      "           [1., 1.],\n",
      "           [1., 1.]],\n",
      "\n",
      "          [[1., 1.],\n",
      "           [1., 1.],\n",
      "           [1., 1.],\n",
      "           [1., 1.],\n",
      "           [1., 1.]],\n",
      "\n",
      "          [[1., 1.],\n",
      "           [1., 1.],\n",
      "           [1., 1.],\n",
      "           [1., 1.],\n",
      "           [1., 1.]]],\n",
      "\n",
      "\n",
      "         [[[1., 1.],\n",
      "           [1., 1.],\n",
      "           [1., 1.],\n",
      "           [1., 1.],\n",
      "           [1., 1.]],\n",
      "\n",
      "          [[1., 1.],\n",
      "           [1., 1.],\n",
      "           [1., 1.],\n",
      "           [1., 1.],\n",
      "           [1., 1.]],\n",
      "\n",
      "          [[1., 1.],\n",
      "           [1., 1.],\n",
      "           [1., 1.],\n",
      "           [1., 1.],\n",
      "           [1., 1.]],\n",
      "\n",
      "          [[1., 1.],\n",
      "           [1., 1.],\n",
      "           [1., 1.],\n",
      "           [1., 1.],\n",
      "           [1., 1.]]]],\n",
      "\n",
      "\n",
      "\n",
      "        [[[[1., 1.],\n",
      "           [1., 1.],\n",
      "           [1., 1.],\n",
      "           [1., 1.],\n",
      "           [1., 1.]],\n",
      "\n",
      "          [[1., 1.],\n",
      "           [1., 1.],\n",
      "           [1., 1.],\n",
      "           [1., 1.],\n",
      "           [1., 1.]],\n",
      "\n",
      "          [[1., 1.],\n",
      "           [1., 1.],\n",
      "           [1., 1.],\n",
      "           [1., 1.],\n",
      "           [1., 1.]],\n",
      "\n",
      "          [[1., 1.],\n",
      "           [1., 1.],\n",
      "           [1., 1.],\n",
      "           [1., 1.],\n",
      "           [1., 1.]]],\n",
      "\n",
      "\n",
      "         [[[1., 1.],\n",
      "           [1., 1.],\n",
      "           [1., 1.],\n",
      "           [1., 1.],\n",
      "           [1., 1.]],\n",
      "\n",
      "          [[1., 1.],\n",
      "           [1., 1.],\n",
      "           [1., 1.],\n",
      "           [1., 1.],\n",
      "           [1., 1.]],\n",
      "\n",
      "          [[1., 1.],\n",
      "           [1., 1.],\n",
      "           [1., 1.],\n",
      "           [1., 1.],\n",
      "           [1., 1.]],\n",
      "\n",
      "          [[1., 1.],\n",
      "           [1., 1.],\n",
      "           [1., 1.],\n",
      "           [1., 1.],\n",
      "           [1., 1.]]],\n",
      "\n",
      "\n",
      "         [[[1., 1.],\n",
      "           [1., 1.],\n",
      "           [1., 1.],\n",
      "           [1., 1.],\n",
      "           [1., 1.]],\n",
      "\n",
      "          [[1., 1.],\n",
      "           [1., 1.],\n",
      "           [1., 1.],\n",
      "           [1., 1.],\n",
      "           [1., 1.]],\n",
      "\n",
      "          [[1., 1.],\n",
      "           [1., 1.],\n",
      "           [1., 1.],\n",
      "           [1., 1.],\n",
      "           [1., 1.]],\n",
      "\n",
      "          [[1., 1.],\n",
      "           [1., 1.],\n",
      "           [1., 1.],\n",
      "           [1., 1.],\n",
      "           [1., 1.]]]]])\n"
     ]
    }
   ],
   "source": [
    "a = torch.ones(2,3,4,5,2)\n",
    "print(a.size())\n",
    "print(a)"
   ]
  }
 ],
 "metadata": {
  "kernelspec": {
   "display_name": "Python 3",
   "language": "python",
   "name": "python3"
  },
  "language_info": {
   "codemirror_mode": {
    "name": "ipython",
    "version": 3
   },
   "file_extension": ".py",
   "mimetype": "text/x-python",
   "name": "python",
   "nbconvert_exporter": "python",
   "pygments_lexer": "ipython3",
   "version": "3.12.5"
  }
 },
 "nbformat": 4,
 "nbformat_minor": 5
}
